{
 "cells": [
  {
   "cell_type": "markdown",
   "id": "5ae2a6d5",
   "metadata": {},
   "source": [
    "# Part 1: Load the data and create a datetime index"
   ]
  },
  {
   "cell_type": "code",
   "execution_count": 1,
   "id": "94ea7378",
   "metadata": {},
   "outputs": [],
   "source": [
    "import pandas as pd\n",
    "import matplotlib.pyplot as plt\n",
    "import matplotlib.dates as mdates\n",
    "import matplotlib.ticker as mticks\n",
    "\n",
    "import missingno as miss\n",
    "\n",
    "import seaborn as sns\n",
    "import numpy as np"
   ]
  },
  {
   "cell_type": "code",
   "execution_count": 2,
   "id": "e23b08e1",
   "metadata": {},
   "outputs": [
    {
     "name": "stdout",
     "output_type": "stream",
     "text": [
      "<class 'pandas.core.frame.DataFrame'>\n",
      "RangeIndex: 15341 entries, 0 to 15340\n",
      "Data columns (total 10 columns):\n",
      " #   Column            Non-Null Count  Dtype  \n",
      "---  ------            --------------  -----  \n",
      " 0   date              15341 non-null  int64  \n",
      " 1   cloud_cover       14938 non-null  float64\n",
      " 2   sunshine          14957 non-null  float64\n",
      " 3   global_radiation  14939 non-null  float64\n",
      " 4   max_temp          14951 non-null  float64\n",
      " 5   mean_temp         14922 non-null  float64\n",
      " 6   min_temp          14955 non-null  float64\n",
      " 7   precipitation     14951 non-null  float64\n",
      " 8   pressure          14953 non-null  float64\n",
      " 9   snow_depth        13589 non-null  float64\n",
      "dtypes: float64(9), int64(1)\n",
      "memory usage: 1.2 MB\n"
     ]
    },
    {
     "data": {
      "text/html": [
       "<div>\n",
       "<style scoped>\n",
       "    .dataframe tbody tr th:only-of-type {\n",
       "        vertical-align: middle;\n",
       "    }\n",
       "\n",
       "    .dataframe tbody tr th {\n",
       "        vertical-align: top;\n",
       "    }\n",
       "\n",
       "    .dataframe thead th {\n",
       "        text-align: right;\n",
       "    }\n",
       "</style>\n",
       "<table border=\"1\" class=\"dataframe\">\n",
       "  <thead>\n",
       "    <tr style=\"text-align: right;\">\n",
       "      <th></th>\n",
       "      <th>date</th>\n",
       "      <th>cloud_cover</th>\n",
       "      <th>sunshine</th>\n",
       "      <th>global_radiation</th>\n",
       "      <th>max_temp</th>\n",
       "      <th>mean_temp</th>\n",
       "      <th>min_temp</th>\n",
       "      <th>precipitation</th>\n",
       "      <th>pressure</th>\n",
       "      <th>snow_depth</th>\n",
       "    </tr>\n",
       "  </thead>\n",
       "  <tbody>\n",
       "    <tr>\n",
       "      <th>0</th>\n",
       "      <td>19790101</td>\n",
       "      <td>2.0</td>\n",
       "      <td>7.0</td>\n",
       "      <td>52.0</td>\n",
       "      <td>2.3</td>\n",
       "      <td>-4.1</td>\n",
       "      <td>-7.5</td>\n",
       "      <td>0.4</td>\n",
       "      <td>101900.0</td>\n",
       "      <td>9.0</td>\n",
       "    </tr>\n",
       "    <tr>\n",
       "      <th>1</th>\n",
       "      <td>19790102</td>\n",
       "      <td>6.0</td>\n",
       "      <td>1.7</td>\n",
       "      <td>27.0</td>\n",
       "      <td>1.6</td>\n",
       "      <td>-2.6</td>\n",
       "      <td>-7.5</td>\n",
       "      <td>0.0</td>\n",
       "      <td>102530.0</td>\n",
       "      <td>8.0</td>\n",
       "    </tr>\n",
       "    <tr>\n",
       "      <th>2</th>\n",
       "      <td>19790103</td>\n",
       "      <td>5.0</td>\n",
       "      <td>0.0</td>\n",
       "      <td>13.0</td>\n",
       "      <td>1.3</td>\n",
       "      <td>-2.8</td>\n",
       "      <td>-7.2</td>\n",
       "      <td>0.0</td>\n",
       "      <td>102050.0</td>\n",
       "      <td>4.0</td>\n",
       "    </tr>\n",
       "  </tbody>\n",
       "</table>\n",
       "</div>"
      ],
      "text/plain": [
       "       date  cloud_cover  sunshine  global_radiation  max_temp  mean_temp  \\\n",
       "0  19790101          2.0       7.0              52.0       2.3       -4.1   \n",
       "1  19790102          6.0       1.7              27.0       1.6       -2.6   \n",
       "2  19790103          5.0       0.0              13.0       1.3       -2.8   \n",
       "\n",
       "   min_temp  precipitation  pressure  snow_depth  \n",
       "0      -7.5            0.4  101900.0         9.0  \n",
       "1      -7.5            0.0  102530.0         8.0  \n",
       "2      -7.2            0.0  102050.0         4.0  "
      ]
     },
     "execution_count": 2,
     "metadata": {},
     "output_type": "execute_result"
    }
   ],
   "source": [
    "\n",
    "url=\"https://docs.google.com/spreadsheets/d/e/2PACX-1vT_jChgNsQbHbg4TGepzIqk8XC9DTIKmyyxb1upo5cfZCgbfIUQc2ZC0YMzuU5uApP140Ob49KBjdqh/pub?gid=1198589591&single=true&output=csv \"\n",
    "df = pd.read_csv(url)\n",
    "df.info()\n",
    "df.head(3)"
   ]
  },
  {
   "cell_type": "code",
   "execution_count": 3,
   "id": "d4ffb0ab",
   "metadata": {},
   "outputs": [
    {
     "data": {
      "text/plain": [
       "472      19800417\n",
       "4151     19900514\n",
       "6709     19970515\n",
       "6980     19980210\n",
       "7212     19980930\n",
       "7227     19981015\n",
       "8639     20020827\n",
       "9487     20041222\n",
       "11691    20110104\n",
       "13726    20160731\n",
       "Name: date, dtype: int64"
      ]
     },
     "execution_count": 3,
     "metadata": {},
     "output_type": "execute_result"
    }
   ],
   "source": [
    "df['date'].sample(n=10).sort_index()"
   ]
  },
  {
   "cell_type": "markdown",
   "id": "981efa4d",
   "metadata": {},
   "source": [
    "### Convert the date column to datetime dtype"
   ]
  },
  {
   "cell_type": "code",
   "execution_count": 4,
   "id": "5ac0d729",
   "metadata": {},
   "outputs": [],
   "source": [
    "df['date']=pd.to_datetime(df['date'], format='%Y%m%d')"
   ]
  },
  {
   "cell_type": "code",
   "execution_count": 5,
   "id": "f1bc87b9",
   "metadata": {},
   "outputs": [
    {
     "name": "stdout",
     "output_type": "stream",
     "text": [
      "<class 'pandas.core.frame.DataFrame'>\n",
      "RangeIndex: 15341 entries, 0 to 15340\n",
      "Data columns (total 10 columns):\n",
      " #   Column            Non-Null Count  Dtype         \n",
      "---  ------            --------------  -----         \n",
      " 0   date              15341 non-null  datetime64[ns]\n",
      " 1   cloud_cover       14938 non-null  float64       \n",
      " 2   sunshine          14957 non-null  float64       \n",
      " 3   global_radiation  14939 non-null  float64       \n",
      " 4   max_temp          14951 non-null  float64       \n",
      " 5   mean_temp         14922 non-null  float64       \n",
      " 6   min_temp          14955 non-null  float64       \n",
      " 7   precipitation     14951 non-null  float64       \n",
      " 8   pressure          14953 non-null  float64       \n",
      " 9   snow_depth        13589 non-null  float64       \n",
      "dtypes: datetime64[ns](1), float64(9)\n",
      "memory usage: 1.2 MB\n"
     ]
    },
    {
     "data": {
      "text/html": [
       "<div>\n",
       "<style scoped>\n",
       "    .dataframe tbody tr th:only-of-type {\n",
       "        vertical-align: middle;\n",
       "    }\n",
       "\n",
       "    .dataframe tbody tr th {\n",
       "        vertical-align: top;\n",
       "    }\n",
       "\n",
       "    .dataframe thead th {\n",
       "        text-align: right;\n",
       "    }\n",
       "</style>\n",
       "<table border=\"1\" class=\"dataframe\">\n",
       "  <thead>\n",
       "    <tr style=\"text-align: right;\">\n",
       "      <th></th>\n",
       "      <th>date</th>\n",
       "      <th>cloud_cover</th>\n",
       "      <th>sunshine</th>\n",
       "      <th>global_radiation</th>\n",
       "      <th>max_temp</th>\n",
       "      <th>mean_temp</th>\n",
       "      <th>min_temp</th>\n",
       "      <th>precipitation</th>\n",
       "      <th>pressure</th>\n",
       "      <th>snow_depth</th>\n",
       "    </tr>\n",
       "  </thead>\n",
       "  <tbody>\n",
       "    <tr>\n",
       "      <th>0</th>\n",
       "      <td>1979-01-01</td>\n",
       "      <td>2.0</td>\n",
       "      <td>7.0</td>\n",
       "      <td>52.0</td>\n",
       "      <td>2.3</td>\n",
       "      <td>-4.1</td>\n",
       "      <td>-7.5</td>\n",
       "      <td>0.4</td>\n",
       "      <td>101900.0</td>\n",
       "      <td>9.0</td>\n",
       "    </tr>\n",
       "    <tr>\n",
       "      <th>1</th>\n",
       "      <td>1979-01-02</td>\n",
       "      <td>6.0</td>\n",
       "      <td>1.7</td>\n",
       "      <td>27.0</td>\n",
       "      <td>1.6</td>\n",
       "      <td>-2.6</td>\n",
       "      <td>-7.5</td>\n",
       "      <td>0.0</td>\n",
       "      <td>102530.0</td>\n",
       "      <td>8.0</td>\n",
       "    </tr>\n",
       "    <tr>\n",
       "      <th>2</th>\n",
       "      <td>1979-01-03</td>\n",
       "      <td>5.0</td>\n",
       "      <td>0.0</td>\n",
       "      <td>13.0</td>\n",
       "      <td>1.3</td>\n",
       "      <td>-2.8</td>\n",
       "      <td>-7.2</td>\n",
       "      <td>0.0</td>\n",
       "      <td>102050.0</td>\n",
       "      <td>4.0</td>\n",
       "    </tr>\n",
       "    <tr>\n",
       "      <th>3</th>\n",
       "      <td>1979-01-04</td>\n",
       "      <td>8.0</td>\n",
       "      <td>0.0</td>\n",
       "      <td>13.0</td>\n",
       "      <td>-0.3</td>\n",
       "      <td>-2.6</td>\n",
       "      <td>-6.5</td>\n",
       "      <td>0.0</td>\n",
       "      <td>100840.0</td>\n",
       "      <td>2.0</td>\n",
       "    </tr>\n",
       "    <tr>\n",
       "      <th>4</th>\n",
       "      <td>1979-01-05</td>\n",
       "      <td>6.0</td>\n",
       "      <td>2.0</td>\n",
       "      <td>29.0</td>\n",
       "      <td>5.6</td>\n",
       "      <td>-0.8</td>\n",
       "      <td>-1.4</td>\n",
       "      <td>0.0</td>\n",
       "      <td>102250.0</td>\n",
       "      <td>1.0</td>\n",
       "    </tr>\n",
       "  </tbody>\n",
       "</table>\n",
       "</div>"
      ],
      "text/plain": [
       "        date  cloud_cover  sunshine  global_radiation  max_temp  mean_temp  \\\n",
       "0 1979-01-01          2.0       7.0              52.0       2.3       -4.1   \n",
       "1 1979-01-02          6.0       1.7              27.0       1.6       -2.6   \n",
       "2 1979-01-03          5.0       0.0              13.0       1.3       -2.8   \n",
       "3 1979-01-04          8.0       0.0              13.0      -0.3       -2.6   \n",
       "4 1979-01-05          6.0       2.0              29.0       5.6       -0.8   \n",
       "\n",
       "   min_temp  precipitation  pressure  snow_depth  \n",
       "0      -7.5            0.4  101900.0         9.0  \n",
       "1      -7.5            0.0  102530.0         8.0  \n",
       "2      -7.2            0.0  102050.0         4.0  \n",
       "3      -6.5            0.0  100840.0         2.0  \n",
       "4      -1.4            0.0  102250.0         1.0  "
      ]
     },
     "execution_count": 5,
     "metadata": {},
     "output_type": "execute_result"
    }
   ],
   "source": [
    "df.info()\n",
    "df.head()"
   ]
  },
  {
   "cell_type": "markdown",
   "id": "4c0a31da",
   "metadata": {},
   "source": [
    "### Set the date column as the index."
   ]
  },
  {
   "cell_type": "code",
   "execution_count": 6,
   "id": "da8f7f12",
   "metadata": {},
   "outputs": [],
   "source": [
    "df = df.set_index('date')"
   ]
  },
  {
   "cell_type": "code",
   "execution_count": 7,
   "id": "bbb72995",
   "metadata": {},
   "outputs": [
    {
     "data": {
      "text/html": [
       "<div>\n",
       "<style scoped>\n",
       "    .dataframe tbody tr th:only-of-type {\n",
       "        vertical-align: middle;\n",
       "    }\n",
       "\n",
       "    .dataframe tbody tr th {\n",
       "        vertical-align: top;\n",
       "    }\n",
       "\n",
       "    .dataframe thead th {\n",
       "        text-align: right;\n",
       "    }\n",
       "</style>\n",
       "<table border=\"1\" class=\"dataframe\">\n",
       "  <thead>\n",
       "    <tr style=\"text-align: right;\">\n",
       "      <th></th>\n",
       "      <th>cloud_cover</th>\n",
       "      <th>sunshine</th>\n",
       "      <th>global_radiation</th>\n",
       "      <th>max_temp</th>\n",
       "      <th>mean_temp</th>\n",
       "      <th>min_temp</th>\n",
       "      <th>precipitation</th>\n",
       "      <th>pressure</th>\n",
       "      <th>snow_depth</th>\n",
       "    </tr>\n",
       "    <tr>\n",
       "      <th>date</th>\n",
       "      <th></th>\n",
       "      <th></th>\n",
       "      <th></th>\n",
       "      <th></th>\n",
       "      <th></th>\n",
       "      <th></th>\n",
       "      <th></th>\n",
       "      <th></th>\n",
       "      <th></th>\n",
       "    </tr>\n",
       "  </thead>\n",
       "  <tbody>\n",
       "    <tr>\n",
       "      <th>1979-01-01</th>\n",
       "      <td>2.0</td>\n",
       "      <td>7.0</td>\n",
       "      <td>52.0</td>\n",
       "      <td>2.3</td>\n",
       "      <td>-4.1</td>\n",
       "      <td>-7.5</td>\n",
       "      <td>0.4</td>\n",
       "      <td>101900.0</td>\n",
       "      <td>9.0</td>\n",
       "    </tr>\n",
       "    <tr>\n",
       "      <th>1979-01-02</th>\n",
       "      <td>6.0</td>\n",
       "      <td>1.7</td>\n",
       "      <td>27.0</td>\n",
       "      <td>1.6</td>\n",
       "      <td>-2.6</td>\n",
       "      <td>-7.5</td>\n",
       "      <td>0.0</td>\n",
       "      <td>102530.0</td>\n",
       "      <td>8.0</td>\n",
       "    </tr>\n",
       "    <tr>\n",
       "      <th>1979-01-03</th>\n",
       "      <td>5.0</td>\n",
       "      <td>0.0</td>\n",
       "      <td>13.0</td>\n",
       "      <td>1.3</td>\n",
       "      <td>-2.8</td>\n",
       "      <td>-7.2</td>\n",
       "      <td>0.0</td>\n",
       "      <td>102050.0</td>\n",
       "      <td>4.0</td>\n",
       "    </tr>\n",
       "    <tr>\n",
       "      <th>1979-01-04</th>\n",
       "      <td>8.0</td>\n",
       "      <td>0.0</td>\n",
       "      <td>13.0</td>\n",
       "      <td>-0.3</td>\n",
       "      <td>-2.6</td>\n",
       "      <td>-6.5</td>\n",
       "      <td>0.0</td>\n",
       "      <td>100840.0</td>\n",
       "      <td>2.0</td>\n",
       "    </tr>\n",
       "    <tr>\n",
       "      <th>1979-01-05</th>\n",
       "      <td>6.0</td>\n",
       "      <td>2.0</td>\n",
       "      <td>29.0</td>\n",
       "      <td>5.6</td>\n",
       "      <td>-0.8</td>\n",
       "      <td>-1.4</td>\n",
       "      <td>0.0</td>\n",
       "      <td>102250.0</td>\n",
       "      <td>1.0</td>\n",
       "    </tr>\n",
       "  </tbody>\n",
       "</table>\n",
       "</div>"
      ],
      "text/plain": [
       "            cloud_cover  sunshine  global_radiation  max_temp  mean_temp  \\\n",
       "date                                                                       \n",
       "1979-01-01          2.0       7.0              52.0       2.3       -4.1   \n",
       "1979-01-02          6.0       1.7              27.0       1.6       -2.6   \n",
       "1979-01-03          5.0       0.0              13.0       1.3       -2.8   \n",
       "1979-01-04          8.0       0.0              13.0      -0.3       -2.6   \n",
       "1979-01-05          6.0       2.0              29.0       5.6       -0.8   \n",
       "\n",
       "            min_temp  precipitation  pressure  snow_depth  \n",
       "date                                                       \n",
       "1979-01-01      -7.5            0.4  101900.0         9.0  \n",
       "1979-01-02      -7.5            0.0  102530.0         8.0  \n",
       "1979-01-03      -7.2            0.0  102050.0         4.0  \n",
       "1979-01-04      -6.5            0.0  100840.0         2.0  \n",
       "1979-01-05      -1.4            0.0  102250.0         1.0  "
      ]
     },
     "execution_count": 7,
     "metadata": {},
     "output_type": "execute_result"
    }
   ],
   "source": [
    "df.head()"
   ]
  },
  {
   "cell_type": "markdown",
   "id": "be5aec22",
   "metadata": {},
   "source": [
    "### Filter out only the required data:\n",
    "- Keep only data from the year 2000 or later.\n",
    "- Keep only the following features:\n",
    "  - precipitation\n",
    "  - mean_temp\n",
    "  - min_temp\n",
    "  - max_temp\n",
    "  - snow_depth"
   ]
  },
  {
   "cell_type": "code",
   "execution_count": 8,
   "id": "6a98bcca",
   "metadata": {},
   "outputs": [],
   "source": [
    "ts_df=df.loc['2000':]"
   ]
  },
  {
   "cell_type": "code",
   "execution_count": 9,
   "id": "30db8fed",
   "metadata": {},
   "outputs": [
    {
     "data": {
      "text/html": [
       "<div>\n",
       "<style scoped>\n",
       "    .dataframe tbody tr th:only-of-type {\n",
       "        vertical-align: middle;\n",
       "    }\n",
       "\n",
       "    .dataframe tbody tr th {\n",
       "        vertical-align: top;\n",
       "    }\n",
       "\n",
       "    .dataframe thead th {\n",
       "        text-align: right;\n",
       "    }\n",
       "</style>\n",
       "<table border=\"1\" class=\"dataframe\">\n",
       "  <thead>\n",
       "    <tr style=\"text-align: right;\">\n",
       "      <th></th>\n",
       "      <th>max_temp</th>\n",
       "      <th>mean_temp</th>\n",
       "      <th>min_temp</th>\n",
       "      <th>precipitation</th>\n",
       "      <th>snow_depth</th>\n",
       "    </tr>\n",
       "    <tr>\n",
       "      <th>date</th>\n",
       "      <th></th>\n",
       "      <th></th>\n",
       "      <th></th>\n",
       "      <th></th>\n",
       "      <th></th>\n",
       "    </tr>\n",
       "  </thead>\n",
       "  <tbody>\n",
       "    <tr>\n",
       "      <th>2000-01-01</th>\n",
       "      <td>10.8</td>\n",
       "      <td>7.0</td>\n",
       "      <td>4.9</td>\n",
       "      <td>0.0</td>\n",
       "      <td>0.0</td>\n",
       "    </tr>\n",
       "    <tr>\n",
       "      <th>2000-01-02</th>\n",
       "      <td>11.5</td>\n",
       "      <td>7.9</td>\n",
       "      <td>5.0</td>\n",
       "      <td>0.2</td>\n",
       "      <td>0.0</td>\n",
       "    </tr>\n",
       "    <tr>\n",
       "      <th>2000-01-03</th>\n",
       "      <td>9.5</td>\n",
       "      <td>9.4</td>\n",
       "      <td>7.2</td>\n",
       "      <td>6.0</td>\n",
       "      <td>0.0</td>\n",
       "    </tr>\n",
       "    <tr>\n",
       "      <th>2000-01-04</th>\n",
       "      <td>11.0</td>\n",
       "      <td>7.0</td>\n",
       "      <td>4.4</td>\n",
       "      <td>0.2</td>\n",
       "      <td>0.0</td>\n",
       "    </tr>\n",
       "    <tr>\n",
       "      <th>2000-01-05</th>\n",
       "      <td>10.8</td>\n",
       "      <td>6.4</td>\n",
       "      <td>1.9</td>\n",
       "      <td>0.8</td>\n",
       "      <td>0.0</td>\n",
       "    </tr>\n",
       "  </tbody>\n",
       "</table>\n",
       "</div>"
      ],
      "text/plain": [
       "            max_temp  mean_temp  min_temp  precipitation  snow_depth\n",
       "date                                                                \n",
       "2000-01-01      10.8        7.0       4.9            0.0         0.0\n",
       "2000-01-02      11.5        7.9       5.0            0.2         0.0\n",
       "2000-01-03       9.5        9.4       7.2            6.0         0.0\n",
       "2000-01-04      11.0        7.0       4.4            0.2         0.0\n",
       "2000-01-05      10.8        6.4       1.9            0.8         0.0"
      ]
     },
     "execution_count": 9,
     "metadata": {},
     "output_type": "execute_result"
    }
   ],
   "source": [
    "ts_df = ts_df.drop(columns=(['cloud_cover', 'sunshine', 'global_radiation','pressure']))\n",
    "ts_df.head()"
   ]
  },
  {
   "cell_type": "markdown",
   "id": "277ed871",
   "metadata": {},
   "source": [
    "### Impute any missing values.\n",
    "- Think about each feature and what imputation method makes sense. You may not be able to use the same method for every feature!"
   ]
  },
  {
   "cell_type": "code",
   "execution_count": 10,
   "id": "b1a3fb6d",
   "metadata": {},
   "outputs": [
    {
     "data": {
      "text/plain": [
       "max_temp          390\n",
       "mean_temp         419\n",
       "min_temp          386\n",
       "precipitation     390\n",
       "snow_depth       1752\n",
       "dtype: int64"
      ]
     },
     "execution_count": 10,
     "metadata": {},
     "output_type": "execute_result"
    }
   ],
   "source": [
    "ts_df.isna().sum()"
   ]
  },
  {
   "cell_type": "code",
   "execution_count": 11,
   "id": "f3b26cb1",
   "metadata": {},
   "outputs": [],
   "source": [
    "ts_df['snow_depth'] = ts_df['snow_depth'].ffill()"
   ]
  },
  {
   "cell_type": "code",
   "execution_count": 12,
   "id": "ff86d866",
   "metadata": {},
   "outputs": [],
   "source": [
    "ts_df['max_temp'] = df['max_temp'].interpolate()\n",
    "ts_df['mean_temp'] = df['mean_temp'].interpolate()\n",
    "ts_df['min_temp'] = df['min_temp'].interpolate()"
   ]
  },
  {
   "cell_type": "code",
   "execution_count": 13,
   "id": "4e962c82",
   "metadata": {},
   "outputs": [],
   "source": [
    "ts_df['precipitation'] = ts_df['precipitation'].bfill()"
   ]
  },
  {
   "cell_type": "code",
   "execution_count": 14,
   "id": "3b8c0162",
   "metadata": {},
   "outputs": [
    {
     "data": {
      "text/html": [
       "<div>\n",
       "<style scoped>\n",
       "    .dataframe tbody tr th:only-of-type {\n",
       "        vertical-align: middle;\n",
       "    }\n",
       "\n",
       "    .dataframe tbody tr th {\n",
       "        vertical-align: top;\n",
       "    }\n",
       "\n",
       "    .dataframe thead th {\n",
       "        text-align: right;\n",
       "    }\n",
       "</style>\n",
       "<table border=\"1\" class=\"dataframe\">\n",
       "  <thead>\n",
       "    <tr style=\"text-align: right;\">\n",
       "      <th></th>\n",
       "      <th>max_temp</th>\n",
       "      <th>mean_temp</th>\n",
       "      <th>min_temp</th>\n",
       "      <th>precipitation</th>\n",
       "      <th>snow_depth</th>\n",
       "    </tr>\n",
       "    <tr>\n",
       "      <th>date</th>\n",
       "      <th></th>\n",
       "      <th></th>\n",
       "      <th></th>\n",
       "      <th></th>\n",
       "      <th></th>\n",
       "    </tr>\n",
       "  </thead>\n",
       "  <tbody>\n",
       "    <tr>\n",
       "      <th>2000-01-01</th>\n",
       "      <td>10.8</td>\n",
       "      <td>7.0</td>\n",
       "      <td>4.9</td>\n",
       "      <td>0.0</td>\n",
       "      <td>0.0</td>\n",
       "    </tr>\n",
       "    <tr>\n",
       "      <th>2000-01-02</th>\n",
       "      <td>11.5</td>\n",
       "      <td>7.9</td>\n",
       "      <td>5.0</td>\n",
       "      <td>0.2</td>\n",
       "      <td>0.0</td>\n",
       "    </tr>\n",
       "    <tr>\n",
       "      <th>2000-01-03</th>\n",
       "      <td>9.5</td>\n",
       "      <td>9.4</td>\n",
       "      <td>7.2</td>\n",
       "      <td>6.0</td>\n",
       "      <td>0.0</td>\n",
       "    </tr>\n",
       "    <tr>\n",
       "      <th>2000-01-04</th>\n",
       "      <td>11.0</td>\n",
       "      <td>7.0</td>\n",
       "      <td>4.4</td>\n",
       "      <td>0.2</td>\n",
       "      <td>0.0</td>\n",
       "    </tr>\n",
       "    <tr>\n",
       "      <th>2000-01-05</th>\n",
       "      <td>10.8</td>\n",
       "      <td>6.4</td>\n",
       "      <td>1.9</td>\n",
       "      <td>0.8</td>\n",
       "      <td>0.0</td>\n",
       "    </tr>\n",
       "  </tbody>\n",
       "</table>\n",
       "</div>"
      ],
      "text/plain": [
       "            max_temp  mean_temp  min_temp  precipitation  snow_depth\n",
       "date                                                                \n",
       "2000-01-01      10.8        7.0       4.9            0.0         0.0\n",
       "2000-01-02      11.5        7.9       5.0            0.2         0.0\n",
       "2000-01-03       9.5        9.4       7.2            6.0         0.0\n",
       "2000-01-04      11.0        7.0       4.4            0.2         0.0\n",
       "2000-01-05      10.8        6.4       1.9            0.8         0.0"
      ]
     },
     "execution_count": 14,
     "metadata": {},
     "output_type": "execute_result"
    }
   ],
   "source": [
    "ts_df.head()"
   ]
  },
  {
   "cell_type": "code",
   "execution_count": 15,
   "id": "e981a850",
   "metadata": {},
   "outputs": [
    {
     "data": {
      "text/plain": [
       "max_temp         0\n",
       "mean_temp        0\n",
       "min_temp         0\n",
       "precipitation    0\n",
       "snow_depth       0\n",
       "dtype: int64"
      ]
     },
     "execution_count": 15,
     "metadata": {},
     "output_type": "execute_result"
    }
   ],
   "source": [
    "ts_df.isna().sum()"
   ]
  },
  {
   "cell_type": "markdown",
   "id": "9f3afd86",
   "metadata": {},
   "source": [
    "## Part 2) Answer the Questions with Visualizations (Using the Correct Frequency)"
   ]
  },
  {
   "cell_type": "markdown",
   "id": "dfa8958c",
   "metadata": {},
   "source": [
    "### For each of the following questions, make a new copy of the dataframe resampled to the correct frequency for the question.\n",
    "### Plot the feature that the question is asking about.\n",
    "### If there is a specific time period, plot only that time period.\n",
    "### Note: you may want to make a temporary DataFrame that you will use to answer this question only."
   ]
  },
  {
   "cell_type": "markdown",
   "id": "7172276f",
   "metadata": {},
   "source": [
    "#### Q1: What month had the most precipitation between 2000 through 2010?"
   ]
  },
  {
   "cell_type": "code",
   "execution_count": 16,
   "id": "8798c019",
   "metadata": {},
   "outputs": [
    {
     "data": {
      "text/html": [
       "<div>\n",
       "<style scoped>\n",
       "    .dataframe tbody tr th:only-of-type {\n",
       "        vertical-align: middle;\n",
       "    }\n",
       "\n",
       "    .dataframe tbody tr th {\n",
       "        vertical-align: top;\n",
       "    }\n",
       "\n",
       "    .dataframe thead th {\n",
       "        text-align: right;\n",
       "    }\n",
       "</style>\n",
       "<table border=\"1\" class=\"dataframe\">\n",
       "  <thead>\n",
       "    <tr style=\"text-align: right;\">\n",
       "      <th></th>\n",
       "      <th>max_temp</th>\n",
       "      <th>mean_temp</th>\n",
       "      <th>min_temp</th>\n",
       "      <th>precipitation</th>\n",
       "      <th>snow_depth</th>\n",
       "    </tr>\n",
       "    <tr>\n",
       "      <th>date</th>\n",
       "      <th></th>\n",
       "      <th></th>\n",
       "      <th></th>\n",
       "      <th></th>\n",
       "      <th></th>\n",
       "    </tr>\n",
       "  </thead>\n",
       "  <tbody>\n",
       "    <tr>\n",
       "      <th>2000-01-01</th>\n",
       "      <td>10.8</td>\n",
       "      <td>7.0</td>\n",
       "      <td>4.9</td>\n",
       "      <td>0.0</td>\n",
       "      <td>0.0</td>\n",
       "    </tr>\n",
       "    <tr>\n",
       "      <th>2000-01-02</th>\n",
       "      <td>11.5</td>\n",
       "      <td>7.9</td>\n",
       "      <td>5.0</td>\n",
       "      <td>0.2</td>\n",
       "      <td>0.0</td>\n",
       "    </tr>\n",
       "  </tbody>\n",
       "</table>\n",
       "</div>"
      ],
      "text/plain": [
       "            max_temp  mean_temp  min_temp  precipitation  snow_depth\n",
       "date                                                                \n",
       "2000-01-01      10.8        7.0       4.9            0.0         0.0\n",
       "2000-01-02      11.5        7.9       5.0            0.2         0.0"
      ]
     },
     "execution_count": 16,
     "metadata": {},
     "output_type": "execute_result"
    }
   ],
   "source": [
    "ts_df.head(2)"
   ]
  },
  {
   "cell_type": "code",
   "execution_count": 22,
   "id": "45ff973e",
   "metadata": {},
   "outputs": [],
   "source": [
    "ds = ts_df['precipitation'].copy()"
   ]
  },
  {
   "cell_type": "code",
   "execution_count": 23,
   "id": "4144e460",
   "metadata": {},
   "outputs": [
    {
     "data": {
      "text/plain": [
       "DatetimeIndex(['2000-01-31', '2000-02-29', '2000-03-31', '2000-04-30',\n",
       "               '2000-05-31', '2000-06-30', '2000-07-31', '2000-08-31',\n",
       "               '2000-09-30', '2000-10-31',\n",
       "               ...\n",
       "               '2020-03-31', '2020-04-30', '2020-05-31', '2020-06-30',\n",
       "               '2020-07-31', '2020-08-31', '2020-09-30', '2020-10-31',\n",
       "               '2020-11-30', '2020-12-31'],\n",
       "              dtype='datetime64[ns]', name='date', length=252, freq='M')"
      ]
     },
     "execution_count": 23,
     "metadata": {},
     "output_type": "execute_result"
    }
   ],
   "source": [
    "##  set monthly frequency\n",
    "ds = ds.asfreq('M')\n",
    "##  preview the index again\n",
    "ds.index\n"
   ]
  },
  {
   "cell_type": "code",
   "execution_count": 24,
   "id": "15cab0da",
   "metadata": {},
   "outputs": [
    {
     "data": {
      "text/plain": [
       "DatetimeIndex(['2000-01-01', '2000-01-02', '2000-01-03', '2000-01-04',\n",
       "               '2000-01-05', '2000-01-06', '2000-01-07', '2000-01-08',\n",
       "               '2000-01-09', '2000-01-10',\n",
       "               ...\n",
       "               '2020-12-22', '2020-12-23', '2020-12-24', '2020-12-25',\n",
       "               '2020-12-26', '2020-12-27', '2020-12-28', '2020-12-29',\n",
       "               '2020-12-30', '2020-12-31'],\n",
       "              dtype='datetime64[ns]', name='date', length=7671, freq=None)"
      ]
     },
     "execution_count": 24,
     "metadata": {},
     "output_type": "execute_result"
    }
   ],
   "source": [
    "ds = ts_df['precipitation'].copy()\n",
    "ds.index"
   ]
  },
  {
   "cell_type": "code",
   "execution_count": 25,
   "id": "6fc38611",
   "metadata": {},
   "outputs": [
    {
     "data": {
      "text/plain": [
       "Timestamp('2015-08-25 00:00:00')"
      ]
     },
     "execution_count": 25,
     "metadata": {},
     "output_type": "execute_result"
    }
   ],
   "source": [
    "max_date = ts_df['precipitation'].idxmax()\n",
    "max_date"
   ]
  },
  {
   "cell_type": "code",
   "execution_count": 26,
   "id": "bf4dc683",
   "metadata": {},
   "outputs": [
    {
     "data": {
      "text/plain": [
       "max_temp         19.3\n",
       "mean_temp        15.9\n",
       "min_temp         13.3\n",
       "precipitation    51.6\n",
       "snow_depth        0.0\n",
       "Name: 2015-08-25 00:00:00, dtype: float64"
      ]
     },
     "execution_count": 26,
     "metadata": {},
     "output_type": "execute_result"
    }
   ],
   "source": [
    "ts_df.loc[max_date]"
   ]
  },
  {
   "cell_type": "code",
   "execution_count": 27,
   "id": "76798cab",
   "metadata": {},
   "outputs": [],
   "source": [
    "## Change the default figure size to something wider (12,5)\n",
    "plt.rcParams['figure.figsize'] = (12,3)"
   ]
  },
  {
   "cell_type": "code",
   "execution_count": 28,
   "id": "d7b42a4d",
   "metadata": {},
   "outputs": [],
   "source": [
    "## CREATE ARTISTS FOR MAJOR XTICKS (Years)\n",
    "# Create a year locator\n",
    "loc_major_yr = mdates.YearLocator()\n",
    "# Create a year formatter using 4-digit years\n",
    "fmt_major_yr = mdates.DateFormatter(\"%Y\")\n",
    "\n",
    "\n",
    "## CREATE ARTISTS FOR MINOR XTICKS ( Months)\n",
    "# Create a month locator that will add months at 1,4,7,10\n",
    "loc_minor_3m = mdates.MonthLocator(bymonth=[1,4,7,10])\n",
    "# Createa monthnformatter that will use 3-letter month names\n",
    "fmt_minor_3m = mdates.DateFormatter(\"%b\")"
   ]
  },
  {
   "cell_type": "code",
   "execution_count": 31,
   "id": "c41c0333",
   "metadata": {},
   "outputs": [
    {
     "data": {
      "image/png": "[encoded data removed]",
      "text/plain": [
       "<Figure size 1200x300 with 1 Axes>"
      ]
     },
     "metadata": {},
     "output_type": "display_data"
    }
   ],
   "source": [
    "## Create our plot and save the ax\n",
    "ax = ds.plot()\n",
    "ax.set(ylabel=\"Inches\", title='Precipitation for 2000-2010')\n",
    "\n",
    "# Set xaxis major locator/formatter\n",
    "ax.xaxis.set_major_locator(loc_major_yr)\n",
    "ax.xaxis.set_major_formatter(fmt_major_yr)\n",
    "\n",
    "\n",
    "# Set xaxis minor locator/formatter\n",
    "ax.xaxis.set_minor_locator(loc_minor_3m)\n",
    "#ax.xaxis.set_minor_formatter(fmt_minor_3m)\n",
    "ax.axvline('2015-08-25', color='red',lw=3,ls=':',label='August 2015 max=51.6')\n",
    "\n",
    "\n",
    "\n",
    "\n",
    "# Add gridlines for major xaxis ticks\n",
    "ax.grid(which='major',axis='x',color='k',ls=':',lw=1)\n",
    "\n",
    "## Rotate the major tick years using fig.autofmt_xdate\n",
    "fig = ax.get_figure()\n",
    "fig.autofmt_xdate(which='major', rotation=90,ha='center')\n",
    "ax.legend();"
   ]
  },
  {
   "cell_type": "markdown",
   "id": "bdaa1f3a",
   "metadata": {},
   "source": [
    "## Q2: Which year between 2000-2020 had the coolest average temperature?"
   ]
  },
  {
   "cell_type": "code",
   "execution_count": 68,
   "id": "ed202a9c",
   "metadata": {},
   "outputs": [
    {
     "data": {
      "text/html": [
       "<div>\n",
       "<style scoped>\n",
       "    .dataframe tbody tr th:only-of-type {\n",
       "        vertical-align: middle;\n",
       "    }\n",
       "\n",
       "    .dataframe tbody tr th {\n",
       "        vertical-align: top;\n",
       "    }\n",
       "\n",
       "    .dataframe thead th {\n",
       "        text-align: right;\n",
       "    }\n",
       "</style>\n",
       "<table border=\"1\" class=\"dataframe\">\n",
       "  <thead>\n",
       "    <tr style=\"text-align: right;\">\n",
       "      <th></th>\n",
       "      <th>max_temp</th>\n",
       "      <th>mean_temp</th>\n",
       "      <th>min_temp</th>\n",
       "      <th>precipitation</th>\n",
       "      <th>snow_depth</th>\n",
       "    </tr>\n",
       "    <tr>\n",
       "      <th>date</th>\n",
       "      <th></th>\n",
       "      <th></th>\n",
       "      <th></th>\n",
       "      <th></th>\n",
       "      <th></th>\n",
       "    </tr>\n",
       "  </thead>\n",
       "  <tbody>\n",
       "    <tr>\n",
       "      <th>2000-01-01</th>\n",
       "      <td>10.8</td>\n",
       "      <td>7.0</td>\n",
       "      <td>4.9</td>\n",
       "      <td>0.0</td>\n",
       "      <td>0.0</td>\n",
       "    </tr>\n",
       "    <tr>\n",
       "      <th>2000-01-02</th>\n",
       "      <td>11.5</td>\n",
       "      <td>7.9</td>\n",
       "      <td>5.0</td>\n",
       "      <td>0.2</td>\n",
       "      <td>0.0</td>\n",
       "    </tr>\n",
       "    <tr>\n",
       "      <th>2000-01-03</th>\n",
       "      <td>9.5</td>\n",
       "      <td>9.4</td>\n",
       "      <td>7.2</td>\n",
       "      <td>6.0</td>\n",
       "      <td>0.0</td>\n",
       "    </tr>\n",
       "    <tr>\n",
       "      <th>2000-01-04</th>\n",
       "      <td>11.0</td>\n",
       "      <td>7.0</td>\n",
       "      <td>4.4</td>\n",
       "      <td>0.2</td>\n",
       "      <td>0.0</td>\n",
       "    </tr>\n",
       "    <tr>\n",
       "      <th>2000-01-05</th>\n",
       "      <td>10.8</td>\n",
       "      <td>6.4</td>\n",
       "      <td>1.9</td>\n",
       "      <td>0.8</td>\n",
       "      <td>0.0</td>\n",
       "    </tr>\n",
       "  </tbody>\n",
       "</table>\n",
       "</div>"
      ],
      "text/plain": [
       "            max_temp  mean_temp  min_temp  precipitation  snow_depth\n",
       "date                                                                \n",
       "2000-01-01      10.8        7.0       4.9            0.0         0.0\n",
       "2000-01-02      11.5        7.9       5.0            0.2         0.0\n",
       "2000-01-03       9.5        9.4       7.2            6.0         0.0\n",
       "2000-01-04      11.0        7.0       4.4            0.2         0.0\n",
       "2000-01-05      10.8        6.4       1.9            0.8         0.0"
      ]
     },
     "execution_count": 68,
     "metadata": {},
     "output_type": "execute_result"
    }
   ],
   "source": [
    "ts_df.head()"
   ]
  },
  {
   "cell_type": "code",
   "execution_count": 69,
   "id": "dfafe9f8",
   "metadata": {},
   "outputs": [
    {
     "data": {
      "text/plain": [
       "date\n",
       "2000-01-01    7.0\n",
       "2000-01-02    7.9\n",
       "2000-01-03    9.4\n",
       "2000-01-04    7.0\n",
       "2000-01-05    6.4\n",
       "             ... \n",
       "2020-12-27    7.5\n",
       "2020-12-28    1.1\n",
       "2020-12-29    2.6\n",
       "2020-12-30    2.7\n",
       "2020-12-31   -0.8\n",
       "Name: mean_temp, Length: 7671, dtype: float64"
      ]
     },
     "execution_count": 69,
     "metadata": {},
     "output_type": "execute_result"
    }
   ],
   "source": [
    "ct_ts = ts_df['mean_temp'].copy()\n",
    "ct_ts"
   ]
  },
  {
   "cell_type": "code",
   "execution_count": 70,
   "id": "dc5489b9",
   "metadata": {},
   "outputs": [
    {
     "data": {
      "text/plain": [
       "DatetimeIndex(['2000-01-01', '2000-01-02', '2000-01-03', '2000-01-04',\n",
       "               '2000-01-05', '2000-01-06', '2000-01-07', '2000-01-08',\n",
       "               '2000-01-09', '2000-01-10',\n",
       "               ...\n",
       "               '2020-12-22', '2020-12-23', '2020-12-24', '2020-12-25',\n",
       "               '2020-12-26', '2020-12-27', '2020-12-28', '2020-12-29',\n",
       "               '2020-12-30', '2020-12-31'],\n",
       "              dtype='datetime64[ns]', name='date', length=7671, freq=None)"
      ]
     },
     "execution_count": 70,
     "metadata": {},
     "output_type": "execute_result"
    }
   ],
   "source": [
    "ct_ts.index"
   ]
  },
  {
   "cell_type": "code",
   "execution_count": 71,
   "id": "79a09400",
   "metadata": {},
   "outputs": [
    {
     "data": {
      "text/plain": [
       "DatetimeIndex(['2000-12-31', '2001-12-31', '2002-12-31', '2003-12-31',\n",
       "               '2004-12-31', '2005-12-31', '2006-12-31', '2007-12-31',\n",
       "               '2008-12-31', '2009-12-31', '2010-12-31', '2011-12-31',\n",
       "               '2012-12-31', '2013-12-31', '2014-12-31', '2015-12-31',\n",
       "               '2016-12-31', '2017-12-31', '2018-12-31', '2019-12-31',\n",
       "               '2020-12-31'],\n",
       "              dtype='datetime64[ns]', name='date', freq='A-DEC')"
      ]
     },
     "execution_count": 71,
     "metadata": {},
     "output_type": "execute_result"
    }
   ],
   "source": [
    "##  set yearly frequency\n",
    "ct_ts = ct_ts.asfreq('Y')\n",
    "##  preview the index again\n",
    "ct_ts.index"
   ]
  },
  {
   "cell_type": "code",
   "execution_count": 81,
   "id": "a736fec6",
   "metadata": {},
   "outputs": [
    {
     "data": {
      "text/plain": [
       "Timestamp('2010-12-20 00:00:00')"
      ]
     },
     "execution_count": 81,
     "metadata": {},
     "output_type": "execute_result"
    }
   ],
   "source": [
    "cool_temp = ts_df['mean_temp'].idxmin()\n",
    "cool_temp"
   ]
  },
  {
   "cell_type": "code",
   "execution_count": 82,
   "id": "a4173f29",
   "metadata": {},
   "outputs": [
    {
     "data": {
      "text/plain": [
       "max_temp         1.8\n",
       "mean_temp       -4.1\n",
       "min_temp        -9.4\n",
       "precipitation    0.0\n",
       "snow_depth       5.0\n",
       "Name: 2010-12-20 00:00:00, dtype: float64"
      ]
     },
     "execution_count": 82,
     "metadata": {},
     "output_type": "execute_result"
    }
   ],
   "source": [
    "ts_df.loc[cool_temp]"
   ]
  },
  {
   "cell_type": "code",
   "execution_count": 58,
   "id": "50e6c22c",
   "metadata": {},
   "outputs": [],
   "source": [
    "## CREATE ARTISTS FOR MAJOR XTICKS (Years)\n",
    "# Create a year locator\n",
    "loc_major_5yr = mdates.YearLocator()\n",
    "# Create a year formatter using 4-digit years\n",
    "fmt_major_5yr = mdates.DateFormatter(\"%Y\")\n",
    "\n",
    "\n",
    "## CREATE ARTISTS FOR MINOR XTICKS ( year)\n",
    "# Create a year locator that will add every year\n",
    "loc_minor_1y = mdates.YearLocator()\n",
    "# Createa year formatter that will use 4 digit year\n",
    "#fmt_minor_1y = mdates.DateFormatter(\"%Y\")"
   ]
  },
  {
   "cell_type": "code",
   "execution_count": 78,
   "id": "e1b41936",
   "metadata": {},
   "outputs": [
    {
     "data": {
      "image/png": "[encoded data removed]",
      "text/plain": [
       "<Figure size 1200x300 with 1 Axes>"
      ]
     },
     "metadata": {},
     "output_type": "display_data"
    }
   ],
   "source": [
    "## Create our plot and save the ax\n",
    "ax = ct_ts.plot()\n",
    "ax.set(ylabel=\"Degrees\", title='Average Temperature')\n",
    "\n",
    "# Set xaxis major locator/formatter\n",
    "#ax.xaxis.set_major_locator(loc_major_5yr)\n",
    "#ax.xaxis.set_major_formatter(fmt_major_5yr)\n",
    "\n",
    "\n",
    "# Set xaxis minor locator/formatter\n",
    "#ax.xaxis.set_minor_locator(loc_minor_1y)\n",
    "#ax.xaxis.set_minor_formatter(fmt_minor_1y)\n",
    "ax.axvline('2010-12-20', color='red',lw=3,ls=':',label='December 2010 mean_temp = -4.1')\n",
    "\n",
    "\n",
    "\n",
    "\n",
    "# Add gridlines for major xaxis ticks\n",
    "ax.grid(which='major',axis='x',color='k',ls=':',lw=1)\n",
    "\n",
    "## Rotate the major tick years using fig.autofmt_xdate\n",
    "fig = ax.get_figure()\n",
    "fig.autofmt_xdate(which='major', rotation=90,ha='center')\n",
    "ax.legend(bbox_to_anchor=[1,1]);"
   ]
  },
  {
   "cell_type": "code",
   "execution_count": null,
   "id": "5f3c5cea",
   "metadata": {},
   "outputs": [],
   "source": []
  },
  {
   "cell_type": "code",
   "execution_count": null,
   "id": "e1af5b79",
   "metadata": {},
   "outputs": [],
   "source": []
  }
 ],
 "metadata": {
  "kernelspec": {
   "display_name": "Python (dojo-env)",
   "language": "python",
   "name": "dojo-env"
  },
  "language_info": {
   "codemirror_mode": {
    "name": "ipython",
    "version": 3
   },
   "file_extension": ".py",
   "mimetype": "text/x-python",
   "name": "python",
   "nbconvert_exporter": "python",
   "pygments_lexer": "ipython3",
   "version": "3.9.15"
  },
  "toc": {
   "base_numbering": 1,
   "nav_menu": {},
   "number_sections": false,
   "sideBar": true,
   "skip_h1_title": false,
   "title_cell": "Table of Contents",
   "title_sidebar": "Contents",
   "toc_cell": false,
   "toc_position": {},
   "toc_section_display": true,
   "toc_window_display": false
  }
 },
 "nbformat": 4,
 "nbformat_minor": 5
}
